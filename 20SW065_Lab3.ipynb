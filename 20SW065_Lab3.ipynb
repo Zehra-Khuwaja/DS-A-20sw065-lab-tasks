{
  "nbformat": 4,
  "nbformat_minor": 0,
  "metadata": {
    "colab": {
      "provenance": [],
      "authorship_tag": "ABX9TyP8RGUqvEuBoHXPwG2bcOdX",
      "include_colab_link": true
    },
    "kernelspec": {
      "name": "python3",
      "display_name": "Python 3"
    },
    "language_info": {
      "name": "python"
    }
  },
  "cells": [
    {
      "cell_type": "markdown",
      "metadata": {
        "id": "view-in-github",
        "colab_type": "text"
      },
      "source": [
        "<a href=\"https://colab.research.google.com/github/Zehra-Khuwaja/DS-A-20sw065-lab-tasks/blob/main/20SW065_Lab3.ipynb\" target=\"_parent\"><img src=\"https://colab.research.google.com/assets/colab-badge.svg\" alt=\"Open In Colab\"/></a>"
      ]
    },
    {
      "cell_type": "code",
      "execution_count": null,
      "metadata": {
        "colab": {
          "base_uri": "https://localhost:8080/"
        },
        "id": "8h1rXaT210pQ",
        "outputId": "47169f66-5d88-47fc-b78c-88226592fb3b"
      },
      "outputs": [
        {
          "output_type": "stream",
          "name": "stdout",
          "text": [
            "200.0\n",
            "200.0\n"
          ]
        }
      ],
      "source": [
        "def population_density(population, land_area):\n",
        "    if land_area == 0:\n",
        "        raise ValueError(\"Land area cannot be zero.\")\n",
        "    density = population / land_area\n",
        "    return density\n",
        "\n",
        "# Test cases\n",
        "print(population_density(10000, 50))  # Test case 1\n",
        "print(population_density(5000, 25))   # Test case 2\n"
      ]
    },
    {
      "cell_type": "code",
      "source": [
        "f = open('camelot.txt', 'w')\n",
        "f.write(\"We're the knights of the round tableWe dance whenever we're able\")\n",
        "f.close()\n",
        "\n",
        "with open(\"camelot.txt\") as song:\n",
        "  print(song.read(2))\n",
        "  print(song.read(8))\n",
        "  print(song.read())\n",
        "\n",
        "  camelot_lines = []\n",
        "  with open(\"camelot.txt\") as f:\n",
        "   for line in f:\n",
        "          camelot_lines.append(line.strip())\n",
        "   print(camelot_lines)"
      ],
      "metadata": {
        "colab": {
          "base_uri": "https://localhost:8080/"
        },
        "id": "TwXTBOZOCydF",
        "outputId": "fb3e490f-0751-4fee-8207-6c9a2bd8fd05"
      },
      "execution_count": 1,
      "outputs": [
        {
          "output_type": "stream",
          "name": "stdout",
          "text": [
            "We\n",
            "'re the \n",
            "knights of the round tableWe dance whenever we're able\n",
            "[\"We're the knights of the round tableWe dance whenever we're able\"]\n"
          ]
        }
      ]
    },
    {
      "cell_type": "code",
      "source": [],
      "metadata": {
        "id": "VCFcPkFaC60-"
      },
      "execution_count": null,
      "outputs": []
    },
    {
      "cell_type": "code",
      "source": [
        "def readable_timedelta(days):\n",
        "    weeks = days // 7\n",
        "    remaining_days = days % 7\n",
        "    return f\"{weeks} week(s) and {remaining_days} day(s).\"\n",
        "\n",
        "# Test the function\n",
        "print(readable_timedelta(10))\n"
      ],
      "metadata": {
        "colab": {
          "base_uri": "https://localhost:8080/"
        },
        "id": "A9icmE235fRj",
        "outputId": "516202fa-5d0f-47e9-df0f-ba897ca89692"
      },
      "execution_count": null,
      "outputs": [
        {
          "output_type": "stream",
          "name": "stdout",
          "text": [
            "1 week(s) and 3 day(s).\n"
          ]
        }
      ]
    },
    {
      "cell_type": "code",
      "source": [
        "numbers = [[1, 2, 3], [4, 5, 6], [7, 8, 9]]\n",
        "\n",
        "# Using lambda expression with map to find the mean of each list\n",
        "averages = list(map(lambda lst: sum(lst) / len(lst), numbers))\n",
        "\n",
        "print(averages)\n"
      ],
      "metadata": {
        "colab": {
          "base_uri": "https://localhost:8080/"
        },
        "id": "gg2ulad96Jpt",
        "outputId": "9d0fc174-722a-4b5c-b81d-fedd43fe9816"
      },
      "execution_count": null,
      "outputs": [
        {
          "output_type": "stream",
          "name": "stdout",
          "text": [
            "[2.0, 5.0, 8.0]\n"
          ]
        }
      ]
    },
    {
      "cell_type": "code",
      "source": [
        "cities = [\"New York\", \"Los Angeles\", \"Chicago\", \"Houston\", \"San Francisco\", \"Seattle\", \"Boston\"]\n",
        "\n",
        "# Using lambda expression with filter to get short city names\n",
        "short_cities = list(filter(lambda city: len(city) < 10, cities))\n",
        "\n",
        "print(short_cities)\n"
      ],
      "metadata": {
        "colab": {
          "base_uri": "https://localhost:8080/"
        },
        "id": "yd1k-OS26cRm",
        "outputId": "8ac6912f-c872-402f-a99b-7b0dc120cefd"
      },
      "execution_count": null,
      "outputs": [
        {
          "output_type": "stream",
          "name": "stdout",
          "text": [
            "['New York', 'Chicago', 'Houston', 'Seattle', 'Boston']\n"
          ]
        }
      ]
    },
    {
      "cell_type": "code",
      "source": [
        "def generate_messages(names, missing_assignments, grades):\n",
        "    for name, missing_assignment, grade in zip(names, missing_assignments, grades):\n",
        "        potential_grade = grade + 2 * missing_assignment\n",
        "        message = f\"Hi {name},\\n\"\\\n",
        "                  f\"This is a reminder that you have {missing_assignment} assignments left to submit before you can graduate. \"\\\n",
        "                  f\"Your current grade is {grade} and can increase to {potential_grade} if you submit all assignments before the due date.\\n\"\n",
        "        print(message)\n",
        "\n",
        "# Ask for user input\n",
        "names = input(\"Enter a list of student names (separated by commas): \").split(',')\n",
        "missing_assignments = list(map(int, input(\"Enter the number of missing assignments for each student (separated by commas): \").split(',')))\n",
        "grades = list(map(float, input(\"Enter the grades for each student (separated by commas): \").split(',')))\n",
        "\n",
        "# Generate and print messages\n",
        "generate_messages(names, missing_assignments, grades)\n"
      ],
      "metadata": {
        "colab": {
          "base_uri": "https://localhost:8080/"
        },
        "id": "kIKeSNVz9u-T",
        "outputId": "a43d1252-9a76-4bb0-857e-b4c9a13da110"
      },
      "execution_count": null,
      "outputs": [
        {
          "output_type": "stream",
          "name": "stdout",
          "text": [
            "Enter a list of student names (separated by commas): ze\n",
            "Enter the number of missing assignments for each student (separated by commas): 1\n",
            "Enter the grades for each student (separated by commas): 2\n",
            "Hi ze,\n",
            "This is a reminder that you have 1 assignments left to submit before you can graduate. Your current grade is 2.0 and can increase to 4.0 if you submit all assignments before the due date.\n",
            "\n"
          ]
        }
      ]
    },
    {
      "cell_type": "code",
      "source": [
        "def create_cast_list(filename):\n",
        "    cast_list = []\n",
        "    with open(filename, 'r') as file:\n",
        "        for line in file:\n",
        "            # Split the line by comma and get the first element (actor's name)\n",
        "            actor_name = line.strip().split(',')[0].strip()\n",
        "            cast_list.append(actor_name)\n",
        "    return cast_list\n",
        "\n",
        "# Call the function and store the result in cast_list\n",
        "cast_list = create_cast_list('flying_circus_cast.txt')\n",
        "\n",
        "# Print the actors' names\n",
        "for actor in cast_list:\n",
        "    print(actor)"
      ],
      "metadata": {
        "colab": {
          "base_uri": "https://localhost:8080/"
        },
        "id": "fD-8W7Q4C-e_",
        "outputId": "378ec269-5d3a-45c2-c682-c5e71beb85a1"
      },
      "execution_count": 2,
      "outputs": [
        {
          "output_type": "stream",
          "name": "stdout",
          "text": [
            "Graham Chapman\n",
            "Eric Idle\n",
            "Terry Jones\n",
            "Michael Palin\n",
            "Terry Gilliam\n",
            "John Cleese\n",
            "Carol Cleveland\n",
            "Ian Davidson\n",
            "John Hughman\n",
            "The Fred Tomlinson Singers\n",
            "Connie Booth\n",
            "Bob Raymond\n",
            "Lyn Ashley\n",
            "Rita Davies\n",
            "Stanley Mason\n",
            "David Ballantyne\n",
            "Donna Reading\n",
            "Peter Brett\n",
            "Maureen Flanagan\n",
            "Katya Wyeth\n",
            "Frank Lester\n",
            "Neil Innes\n",
            "Dick Vosburgh\n",
            "Sandra Richards\n",
            "Julia Breck\n",
            "Nicki Howorth\n",
            "Jimmy Hill\n",
            "Barry Cryer\n",
            "Jeannette Wild\n",
            "Marjorie Wilde\n",
            "Marie Anderson\n",
            "Caron Gardner\n",
            "Nosher Powell\n",
            "Carolae Donoghue\n",
            "Vincent Wong\n",
            "Helena Clayton\n",
            "Nigel Jones\n",
            "Roy Gunson\n",
            "Daphne Davey\n",
            "Stenson Falke\n",
            "Alexander Curry\n",
            "Frank Williams\n",
            "Ralph Wood\n",
            "Rosalind Bailey\n",
            "Marion Mould\n",
            "Sheila Sands\n",
            "Richard Baker\n",
            "Douglas Adams\n",
            "Ewa Aulin\n",
            "Reginald Bosanquet\n",
            "Barbara Lindley\n",
            "Roy Brent\n",
            "Jonas Card\n",
            "Tony Christopher\n",
            "Beulah Hughes\n",
            "Peter Kodak\n",
            "Lulu\n",
            "Jay Neill\n",
            "Graham Skidmore\n",
            "Ringo Starr\n",
            "Fred Tomlinson\n",
            "David Hamilton\n",
            "Suzy Mandel\n",
            "Peter Woods\n"
          ]
        }
      ]
    },
    {
      "cell_type": "code",
      "source": [],
      "metadata": {
        "id": "hUjEyfaO_CTI"
      },
      "execution_count": null,
      "outputs": []
    }
  ]
}