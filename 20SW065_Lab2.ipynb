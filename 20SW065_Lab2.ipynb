{
  "nbformat": 4,
  "nbformat_minor": 0,
  "metadata": {
    "colab": {
      "provenance": [],
      "authorship_tag": "ABX9TyMiFW903VSNxP9vvXnT07Sl",
      "include_colab_link": true
    },
    "kernelspec": {
      "name": "python3",
      "display_name": "Python 3"
    },
    "language_info": {
      "name": "python"
    }
  },
  "cells": [
    {
      "cell_type": "markdown",
      "metadata": {
        "id": "view-in-github",
        "colab_type": "text"
      },
      "source": [
        "<a href=\"https://colab.research.google.com/github/Zehra-Khuwaja/DS-A-20sw065-lab-tasks/blob/main/20SW065_Lab2.ipynb\" target=\"_parent\"><img src=\"https://colab.research.google.com/assets/colab-badge.svg\" alt=\"Open In Colab\"/></a>"
      ]
    },
    {
      "cell_type": "code",
      "execution_count": null,
      "metadata": {
        "colab": {
          "base_uri": "https://localhost:8080/"
        },
        "id": "C8qJlkA6ZqBt",
        "outputId": "a084385b-a403-4fde-c7f0-720a355ff44a"
      },
      "outputs": [
        {
          "output_type": "stream",
          "name": "stdout",
          "text": [
            "50\n",
            "Congratulations!!!! Wooden rabbit\n"
          ]
        }
      ],
      "source": [
        "prize = int(input())\n",
        "\n",
        "if prize >= 1 and prize <= 50:\n",
        "    print('Congratulations!!!! Wooden rabbit')\n",
        "elif prize > 50 and prize <= 150:\n",
        "    print('Alasss!!!! No prize')\n",
        "elif prize > 150 and prize <= 180:\n",
        "    print('Congratulations!!!! Wafer-thin mint')\n",
        "elif prize > 180 and prize <= 200:\n",
        "    print('Congratulations!!!! Penguin')\n",
        "else:\n",
        "    print('Ooh dear!!! No prize this time')\n"
      ]
    },
    {
      "cell_type": "markdown",
      "source": [
        "# New Section"
      ],
      "metadata": {
        "id": "5xJTkvJCbRNx"
      }
    },
    {
      "cell_type": "markdown",
      "source": [],
      "metadata": {
        "id": "9Qs81pkQbCr5"
      }
    },
    {
      "cell_type": "code",
      "source": [
        "answer = 42  # Replace 42 with your chosen number\n",
        "guess = int(input(\"Enter your guess: \"))  # Assuming the user's guess is provided through input\n",
        "\n",
        "if guess < answer:\n",
        "    result = \"Oops! Your guess was too low.\"\n",
        "elif guess > answer:\n",
        "    result = \"Oops! Your guess was too high.\"\n",
        "else:\n",
        "    result = \"Nice! Your guess matched the answer!\"\n",
        "\n",
        "print(result)\n"
      ],
      "metadata": {
        "colab": {
          "base_uri": "https://localhost:8080/"
        },
        "id": "LE9d33VjaBhG",
        "outputId": "9ca78008-1d6f-4d71-e933-696a04b1f4b9"
      },
      "execution_count": null,
      "outputs": [
        {
          "output_type": "stream",
          "name": "stdout",
          "text": [
            "Enter your guess: 22\n",
            "Oops! Your guess was too low.\n"
          ]
        }
      ]
    },
    {
      "cell_type": "code",
      "source": [
        "def calculate_total_purchase(amount, state):\n",
        "    # Define a dictionary to store the tax rates for each state\n",
        "    state_tax_rates = {\n",
        "        'CA': 0.075,  # 7.5% tax rate for California\n",
        "        'MN': 0.095,  # 9.5% tax rate for Minnesota\n",
        "        'NY': 0.089,  # 8.9% tax rate for New York\n",
        "    }\n",
        "\n",
        "    # Check if the state provided is valid (exists in the state_tax_rates dictionary)\n",
        "    if state in state_tax_rates:\n",
        "        # Calculate the tax amount based on the tax rate for the given state\n",
        "        tax_rate = state_tax_rates[state]\n",
        "        tax_amount = amount * tax_rate\n",
        "\n",
        "        # Calculate the total amount after applying tax\n",
        "        total_amount = amount + tax_amount\n",
        "\n",
        "        return total_amount\n",
        "    else:\n",
        "        # If the state is not valid, return an error message\n",
        "        return \"Error: Invalid state provided. Please enter a valid state (CA, MN, or NY).\"\n",
        "\n",
        "# Example usage:\n",
        "amount_of_purchase = 100.00\n",
        "state_of_purchase = \"CA\"\n",
        "\n",
        "total_purchase_amount = calculate_total_purchase(amount_of_purchase, state_of_purchase)\n",
        "print(f\"Total purchase amount with tax: ${total_purchase_amount:.2f}\")\n"
      ],
      "metadata": {
        "colab": {
          "base_uri": "https://localhost:8080/"
        },
        "id": "BiSm1744aMmW",
        "outputId": "61c69cba-3e6f-4b0d-cb45-43ba2a1eda11"
      },
      "execution_count": null,
      "outputs": [
        {
          "output_type": "stream",
          "name": "stdout",
          "text": [
            "Total purchase amount with tax: $107.50\n"
          ]
        }
      ]
    },
    {
      "cell_type": "code",
      "source": [
        "sentence = [\"the\", \"quick\", \"brown\", \"fox\", \"jumped\", \"over\", \"the\", \"lazy\", \"dog\"]\n",
        "\n",
        "for word in sentence:\n",
        "    print(word)\n"
      ],
      "metadata": {
        "colab": {
          "base_uri": "https://localhost:8080/"
        },
        "id": "2w7Ke7WKaYsJ",
        "outputId": "04399bb2-add4-4761-8787-29e294cce16e"
      },
      "execution_count": null,
      "outputs": [
        {
          "output_type": "stream",
          "name": "stdout",
          "text": [
            "the\n",
            "quick\n",
            "brown\n",
            "fox\n",
            "jumped\n",
            "over\n",
            "the\n",
            "lazy\n",
            "dog\n"
          ]
        }
      ]
    },
    {
      "cell_type": "code",
      "source": [
        "for number in range(5, 31, 5):\n",
        "    print(number)\n"
      ],
      "metadata": {
        "colab": {
          "base_uri": "https://localhost:8080/"
        },
        "id": "ZQ_ITs3AadjF",
        "outputId": "d99b85b0-065c-4737-d9d7-5d433e6e2473"
      },
      "execution_count": null,
      "outputs": [
        {
          "output_type": "stream",
          "name": "stdout",
          "text": [
            "5\n",
            "10\n",
            "15\n",
            "20\n",
            "25\n",
            "30\n"
          ]
        }
      ]
    },
    {
      "cell_type": "code",
      "source": [
        "names = [\"Rick Sanchez\", \"Morty Smith\", \"Summer Smith\", \"Jerry Smith\", \"Beth Smith\"]\n",
        "\n",
        "# List comprehension to extract the first names in lowercase\n",
        "first_names = [name.split()[0].lower() for name in names]\n",
        "\n",
        "print(first_names)\n"
      ],
      "metadata": {
        "colab": {
          "base_uri": "https://localhost:8080/"
        },
        "id": "oe9gz_keaiuz",
        "outputId": "a3e6a9e6-b779-4691-eb13-99cfc46614b6"
      },
      "execution_count": null,
      "outputs": [
        {
          "output_type": "stream",
          "name": "stdout",
          "text": [
            "['rick', 'morty', 'summer', 'jerry', 'beth']\n"
          ]
        }
      ]
    },
    {
      "cell_type": "code",
      "source": [
        "# List comprehension to generate the first 20 multiples of 3\n",
        "multiples_3 = [num * 3 for num in range(1, 21)]\n",
        "\n",
        "print(multiples_3)\n"
      ],
      "metadata": {
        "colab": {
          "base_uri": "https://localhost:8080/"
        },
        "id": "EYE4G7cwanNT",
        "outputId": "bc319d4d-74a4-4186-ecfb-94b9c99e670e"
      },
      "execution_count": null,
      "outputs": [
        {
          "output_type": "stream",
          "name": "stdout",
          "text": [
            "[3, 6, 9, 12, 15, 18, 21, 24, 27, 30, 33, 36, 39, 42, 45, 48, 51, 54, 57, 60]\n"
          ]
        }
      ]
    },
    {
      "cell_type": "code",
      "source": [
        "scores = {\n",
        "    \"Rick Sanchez\": 70,\n",
        "    \"Morty Smith\": 35,\n",
        "    \"Summer Smith\": 82,\n",
        "    \"Jerry Smith\": 23,\n",
        "    \"Beth Smith\": 98\n",
        "}\n",
        "\n",
        "# List comprehension to filter names with scores of at least 65\n",
        "passed = [name for name, score in scores.items() if score >= 65]\n",
        "\n",
        "print(passed)\n"
      ],
      "metadata": {
        "colab": {
          "base_uri": "https://localhost:8080/"
        },
        "id": "UUs5tKHMavto",
        "outputId": "72055f7d-542f-45c5-b522-0a8f092e0603"
      },
      "execution_count": null,
      "outputs": [
        {
          "output_type": "stream",
          "name": "stdout",
          "text": [
            "['Rick Sanchez', 'Summer Smith', 'Beth Smith']\n"
          ]
        }
      ]
    },
    {
      "cell_type": "code",
      "source": [
        "cast_names = [\"Barney\", \"Robin\", \"Ted\", \"Lily\", \"Marshall\"]\n",
        "cast_heights = [72, 68, 72, 66, 76]\n",
        "cast = dict(zip(cast_names, cast_heights))\n",
        "print(cast)\n"
      ],
      "metadata": {
        "colab": {
          "base_uri": "https://localhost:8080/"
        },
        "id": "66jKLbJ8a0Ce",
        "outputId": "b53c1d32-c400-4cbe-ae9c-175ae2894b41"
      },
      "execution_count": null,
      "outputs": [
        {
          "output_type": "stream",
          "name": "stdout",
          "text": [
            "{'Barney': 72, 'Robin': 68, 'Ted': 72, 'Lily': 66, 'Marshall': 76}\n"
          ]
        }
      ]
    },
    {
      "cell_type": "code",
      "source": [
        "cast = [\"Barney Stinson\", \"Robin Scherbatsky\", \"Ted Mosby\", \"Lily Aldrin\", \"Marshall Eriksen\"]\n",
        "heights = [72, 68, 72, 66, 76]\n",
        "\n",
        "# Modify the cast list to include names and heights\n",
        "for index, name in enumerate(cast):\n",
        "    cast[index] = f\"{name} {heights[index]}\"\n",
        "\n",
        "print(cast)\n"
      ],
      "metadata": {
        "colab": {
          "base_uri": "https://localhost:8080/"
        },
        "id": "DsjBQ1tja4xC",
        "outputId": "f776e508-7499-4e48-f9c1-4d1be936b14c"
      },
      "execution_count": null,
      "outputs": [
        {
          "output_type": "stream",
          "name": "stdout",
          "text": [
            "['Barney Stinson 72', 'Robin Scherbatsky 68', 'Ted Mosby 72', 'Lily Aldrin 66', 'Marshall Eriksen 76']\n"
          ]
        }
      ]
    }
  ]
}